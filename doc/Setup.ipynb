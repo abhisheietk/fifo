{
 "metadata": {
  "name": "",
  "signature": "sha256:aa20502aacd2c93ef760d85c1da02f497ce84f8938894314835f1b8759e54437"
 },
 "nbformat": 3,
 "nbformat_minor": 0,
 "worksheets": [
  {
   "cells": [
    {
     "cell_type": "code",
     "collapsed": false,
     "input": [
      "%%writefile ../testbench/Makefile\n",
      "TOPLEVEL = ram\n",
      "\n",
      "PWD=$(shell pwd)\n",
      "COCOTB=~/2014_devel/EDA/cocotb\n",
      "\n",
      "VERILOG_SOURCES = $(PWD)/../hdl/ram.v\n",
      "MODULE=test_cocotb,test_discovery,test_external,test_regression\n",
      "\n",
      "include $(COCOTB)/makefiles/Makefile.inc\n",
      "include $(COCOTB)/makefiles/Makefile.sim"
     ],
     "language": "python",
     "metadata": {},
     "outputs": [
      {
       "output_type": "stream",
       "stream": "stdout",
       "text": [
        "Writing ../testbench/Makefile\n"
       ]
      }
     ],
     "prompt_number": 1
    },
    {
     "cell_type": "code",
     "collapsed": false,
     "input": [
      "!pushd ../testbench; make; popd"
     ],
     "language": "python",
     "metadata": {},
     "outputs": [
      {
       "output_type": "stream",
       "stream": "stdout",
       "text": [
        "~/2014_devel/EDA/fifo/testbench ~/2014_devel/EDA/fifo/doc\r\n"
       ]
      },
      {
       "output_type": "stream",
       "stream": "stdout",
       "text": [
        "make results.xml\r\n",
        "make[1]: Entering directory '/home/abhishek/2014_devel/EDA/fifo/testbench'\r\n"
       ]
      },
      {
       "output_type": "stream",
       "stream": "stdout",
       "text": [
        "mkdir -p sim_build\r\n",
        "iverilog -o sim_build/sim.vvp -D COCOTB_SIM=1   /home/abhishek/2014_devel/EDA/fifo/testbench/../hdl/ram.v\r\n"
       ]
      },
      {
       "output_type": "stream",
       "stream": "stdout",
       "text": [
        "PYTHONPATH=/home/abhishek/2014_devel/EDA/cocotb/build/libs/x86_64:/home/abhishek/2014_devel/EDA/cocotb:/home/abhishek/2014_devel/EDA/fifo/testbench: LD_LIBRARY_PATH=/home/abhishek/2014_devel/EDA/cocotb/build/libs/x86_64: MODULE=test_cocotb,test_discovery,test_external,test_regression \\\r\n",
        "        TESTCASE= TOPLEVEL=ram \\\r\n",
        "        vvp -M /home/abhishek/2014_devel/EDA/cocotb/build/libs/x86_64 -m gpivpi sim_build/sim.vvp   \r\n"
       ]
      },
      {
       "output_type": "stream",
       "stream": "stdout",
       "text": [
        "     0.00ns \u001b[34mINFO    \u001b[39m cocotb.gpi                                  gpi_embed.c:205  in embed_sim_init                  \u001b[34mRunning on Icarus Verilog version 0.9.7 \u001b[39m\r\n",
        "     0.00ns \u001b[34mINFO    \u001b[39m cocotb.gpi                                  gpi_embed.c:206  in embed_sim_init                  \u001b[34mPython interpreter initialised and cocotb loaded!\u001b[39m\r\n",
        "     0.00ns \u001b[34mINFO    \u001b[39m cocotb.gpi                                  __init__.py:101  in _initialise_testbench           \u001b[34mSeeding Python random module with 1411189852\u001b[39m\r\n",
        "     0.00ns \u001b[34mINFO    \u001b[39m cocotb.gpi                                  __init__.py:115  in _initialise_testbench           \u001b[34mRunning tests with Cocotb v0.5 from /home/abhishek/2014_devel/EDA/cocotb\u001b[39m\r\n",
        "Traceback (most recent call last):\r\n",
        "  File \"/home/abhishek/2014_devel/EDA/cocotb/cocotb/__init__.py\", line 134, in _initialise_testbench\r\n",
        "    regression.initialise()\r\n",
        "  File \"/home/abhishek/2014_devel/EDA/cocotb/cocotb/regression.py\", line 86, in initialise\r\n",
        "    module = _my_import(module_name)\r\n",
        "  File \"/home/abhishek/2014_devel/EDA/cocotb/cocotb/regression.py\", line 51, in _my_import\r\n",
        "    mod = __import__(name)\r\n",
        "ImportError: No module named test_cocotb\r\n",
        "Call failed\r\n",
        "make[1]: Leaving directory '/home/abhishek/2014_devel/EDA/fifo/testbench'\r\n",
        "~/2014_devel/EDA/fifo/doc\r\n"
       ]
      }
     ],
     "prompt_number": 3
    },
    {
     "cell_type": "code",
     "collapsed": false,
     "input": [],
     "language": "python",
     "metadata": {},
     "outputs": []
    }
   ],
   "metadata": {}
  }
 ]
}