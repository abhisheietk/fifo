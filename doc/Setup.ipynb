{
 "metadata": {
  "name": "",
  "signature": "sha256:efe302c1c61004696c6c01d58e5f50bc29f51175e4c8e833902a52cb0414d43e"
 },
 "nbformat": 3,
 "nbformat_minor": 0,
 "worksheets": [
  {
   "cells": [
    {
     "cell_type": "code",
     "collapsed": false,
     "input": [
      "%%writefile ../testbench/dp_ram/Makefile\n",
      "TOPLEVEL = dpram\n",
      "\n",
      "PWD=$(shell pwd)\n",
      "COCOTB=~/2014_devel/EDA/cocotb\n",
      "\n",
      "VERILOG_SOURCES = $(PWD)/../../hdl/dpram.v\n",
      "MODULE=test_dpram #cocotb,test_discovery,test_external,test_regression\n",
      "\n",
      "include $(COCOTB)/makefiles/Makefile.inc\n",
      "include $(COCOTB)/makefiles/Makefile.sim"
     ],
     "language": "python",
     "metadata": {},
     "outputs": [
      {
       "output_type": "stream",
       "stream": "stdout",
       "text": [
        "Overwriting ../testbench/Makefile\n"
       ]
      }
     ],
     "prompt_number": 7
    },
    {
     "cell_type": "code",
     "collapsed": false,
     "input": [
      "!pushd ../testbench; make > result 2>&1; popd"
     ],
     "language": "python",
     "metadata": {},
     "outputs": [
      {
       "output_type": "stream",
       "stream": "stdout",
       "text": [
        "~/2014_devel/EDA/fifo/testbench ~/2014_devel/EDA/fifo/doc\r\n"
       ]
      },
      {
       "output_type": "stream",
       "stream": "stdout",
       "text": [
        "~/2014_devel/EDA/fifo/doc\r\n"
       ]
      }
     ],
     "prompt_number": 8
    },
    {
     "cell_type": "code",
     "collapsed": false,
     "input": [],
     "language": "python",
     "metadata": {},
     "outputs": []
    }
   ],
   "metadata": {}
  }
 ]
}