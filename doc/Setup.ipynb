{
 "metadata": {
  "name": "",
  "signature": "sha256:551bd1339590cfbcc84ee2bda4bf6602b6d0f8c349e43b4b89e22fcc76a07e6f"
 },
 "nbformat": 3,
 "nbformat_minor": 0,
 "worksheets": [
  {
   "cells": [
    {
     "cell_type": "code",
     "collapsed": false,
     "input": [
      "%%writefile ../testbench/Makefile\n",
      "TOPLEVEL = ram\n",
      "\n",
      "PWD=$(shell pwd)\n",
      "COCOTB=$(PWD)/../../..\n",
      "\n",
      "VERILOG_SOURCES = $(PWD)/../hdl/sample_module.v\n",
      "MODULE=test_cocotb,test_discovery,test_external,test_regression\n",
      "\n",
      "include $(COCOTB)/makefiles/Makefile.inc\n",
      "include $(COCOTB)/makefiles/Makefile.sim"
     ],
     "language": "python",
     "metadata": {},
     "outputs": []
    }
   ],
   "metadata": {}
  }
 ]
}