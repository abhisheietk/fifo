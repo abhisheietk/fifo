{
 "metadata": {
  "name": "",
  "signature": "sha256:8f7c4102b58f68940efd899a9ae0b071e0d24c8643e7d9675d959e8beb15c484"
 },
 "nbformat": 3,
 "nbformat_minor": 0,
 "worksheets": [
  {
   "cells": [
    {
     "cell_type": "code",
     "collapsed": false,
     "input": [
      "%%writefile ../testbench/Makefile\n",
      "TOPLEVEL = ram\n",
      "\n",
      "PWD=$(shell pwd)\n",
      "COCOTB=~/2014_devel/EDA/cocotb\n",
      "\n",
      "VERILOG_SOURCES = $(PWD)/../hdl/ram.v\n",
      "MODULE=test_ram #cocotb,test_discovery,test_external,test_regression\n",
      "\n",
      "include $(COCOTB)/makefiles/Makefile.inc\n",
      "include $(COCOTB)/makefiles/Makefile.sim"
     ],
     "language": "python",
     "metadata": {},
     "outputs": [
      {
       "output_type": "stream",
       "stream": "stdout",
       "text": [
        "Overwriting ../testbench/Makefile\n"
       ]
      }
     ],
     "prompt_number": 4
    },
    {
     "cell_type": "code",
     "collapsed": false,
     "input": [
      "!pushd ../testbench; make; popd"
     ],
     "language": "python",
     "metadata": {},
     "outputs": [
      {
       "output_type": "stream",
       "stream": "stdout",
       "text": [
        "~/2014_devel/EDA/fifo/testbench ~/2014_devel/EDA/fifo/doc\r\n"
       ]
      },
      {
       "output_type": "stream",
       "stream": "stdout",
       "text": [
        "make results.xml\r\n",
        "make[1]: Entering directory '/home/abhishek/2014_devel/EDA/fifo/testbench'\r\n"
       ]
      },
      {
       "output_type": "stream",
       "stream": "stdout",
       "text": [
        "PYTHONPATH=/home/abhishek/2014_devel/EDA/cocotb/build/libs/x86_64:/home/abhishek/2014_devel/EDA/cocotb:/home/abhishek/2014_devel/EDA/fifo/testbench: LD_LIBRARY_PATH=/home/abhishek/2014_devel/EDA/cocotb/build/libs/x86_64: MODULE=test_ram  \\\r\n",
        "        TESTCASE= TOPLEVEL=ram \\\r\n",
        "        vvp -M /home/abhishek/2014_devel/EDA/cocotb/build/libs/x86_64 -m gpivpi sim_build/sim.vvp   \r\n"
       ]
      },
      {
       "output_type": "stream",
       "stream": "stdout",
       "text": [
        "     0.00ns \u001b[34mINFO    \u001b[39m cocotb.gpi                                  gpi_embed.c:205  in embed_sim_init                  \u001b[34mRunning on Icarus Verilog version 0.9.7 \u001b[39m\r\n",
        "     0.00ns \u001b[34mINFO    \u001b[39m cocotb.gpi                                  gpi_embed.c:206  in embed_sim_init                  \u001b[34mPython interpreter initialised and cocotb loaded!\u001b[39m\r\n",
        "     0.00ns \u001b[34mINFO    \u001b[39m cocotb.gpi                                  __init__.py:101  in _initialise_testbench           \u001b[34mSeeding Python random module with 1411189961\u001b[39m\r\n",
        "     0.00ns \u001b[34mINFO    \u001b[39m cocotb.gpi                                  __init__.py:115  in _initialise_testbench           \u001b[34mRunning tests with Cocotb v0.5 from /home/abhishek/2014_devel/EDA/cocotb\u001b[39m\r\n",
        "     0.00ns \u001b[34mINFO    \u001b[39m cocotb.regression                         regression.py:123  in initialise                      \u001b[34mFound test test_ram.test_ram\u001b[39m\r\n",
        "     0.00ns \u001b[34mINFO    \u001b[39m cocotb.regression                         regression.py:194  in execute                         \u001b[34m\u001b[44m\u001b[30mRunning test 1/1:\u001b[39m\u001b[49m test_ram\u001b[39m\r\n",
        "     0.00ns \u001b[34mINFO    \u001b[39m ..coroutine.test_ram.0x7fa1b83b88d0       decorators.py:176  in send                            \u001b[34mStarting test: \"test_ram\"\r\n",
        "                                                                                                                               Description: Try writing values into the RAM and reading back\u001b[39m\r\n",
        "     0.00ns \u001b[34mINFO    \u001b[39m cocotb.ram                                  test_ram.py:39   in test_ram                        \u001b[34mFound 32 entry RAM by 16 bits wide\u001b[39m\r\n",
        "     0.00ns \u001b[34mINFO    \u001b[39m cocotb.ram                                  test_ram.py:45   in test_ram                        \u001b[34mWriting in random values\u001b[39m\r\n"
       ]
      },
      {
       "output_type": "stream",
       "stream": "stdout",
       "text": [
        "   201.60ns \u001b[34mINFO    \u001b[39m cocotb.ram                                  test_ram.py:50   in test_ram                        \u001b[34mReading back values and checking\u001b[39m\r\n"
       ]
      },
      {
       "output_type": "stream",
       "stream": "stdout",
       "text": [
        "   520.00ns \u001b[34mINFO    \u001b[39m cocotb.ram                                  test_ram.py:56   in test_ram                        \u001b[34mRAM contents OK\u001b[39m\r\n",
        "   520.00ns \u001b[34mINFO    \u001b[39m cocotb.regression                         regression.py:156  in handle_result                   \u001b[34mTest Passed: test_ram\u001b[39m\r\n",
        "   520.00ns \u001b[34mINFO    \u001b[39m cocotb.regression                         regression.py:132  in tear_down                       \u001b[34mPassed 1 tests (0 skipped)\u001b[39m\r\n",
        "   520.00ns \u001b[34mINFO    \u001b[39m cocotb.regression                         regression.py:133  in tear_down                       \u001b[34mShutting down...\u001b[39m\r\n",
        "make[1]: Leaving directory '/home/abhishek/2014_devel/EDA/fifo/testbench'\r\n",
        "~/2014_devel/EDA/fifo/doc\r\n"
       ]
      }
     ],
     "prompt_number": 5
    },
    {
     "cell_type": "code",
     "collapsed": false,
     "input": [],
     "language": "python",
     "metadata": {},
     "outputs": []
    }
   ],
   "metadata": {}
  }
 ]
}