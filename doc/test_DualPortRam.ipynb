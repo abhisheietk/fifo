{
 "metadata": {
  "name": "",
  "signature": "sha256:445bedf2b03a18f0e60dde5b239b8bc86fdf21b757139c6fc8607d4c45beabf5"
 },
 "nbformat": 3,
 "nbformat_minor": 0,
 "worksheets": [
  {
   "cells": [
    {
     "cell_type": "code",
     "collapsed": false,
     "input": [
      "!mkdir -p ../testbench/dp_ram"
     ],
     "language": "python",
     "metadata": {},
     "outputs": [],
     "prompt_number": 4
    },
    {
     "cell_type": "code",
     "collapsed": false,
     "input": [
      "%%writefile ../testbench/dp_ram/test_dpram.py\n",
      "\n",
      "import random\n",
      "\n",
      "import cocotb\n",
      "from cocotb.clock import Clock\n",
      "from cocotb.triggers import Timer, RisingEdge, ReadOnly\n",
      "from cocotb.result import TestFailure, ReturnValue\n",
      "\n",
      "@cocotb.coroutine\n",
      "def write_ram(dut, address, value):\n",
      "    \"\"\"This coroutine performs a write of the RAM\"\"\"\n",
      "    yield RisingEdge(dut.clK)                  # Synchronise to the read clock\n",
      "    dut.a_port_ADDR = address                  # Drive the values\n",
      "    dut.a_port_data_IN    = value\n",
      "    dut.a_port_WR  = 1\n",
      "    yield RisingEdge(dut.clK)                  # Wait 1 clock cycle\n",
      "    dut.a_port_WR  = 0                         # Disable write\n",
      "\n",
      "@cocotb.coroutine\n",
      "def read_ram(dut, address):\n",
      "    \"\"\"This coroutine performs a read of the RAM and returns a value\"\"\"\n",
      "    yield RisingEdge(dut.clK)               # Synchronise to the read clock\n",
      "    dut.a_port_ADDR = address               # Drive the value onto the signal\n",
      "    yield RisingEdge(dut.clK)               # Wait for 1 clock cycle\n",
      "    yield ReadOnly()                             # Wait until all events have executed for this timestep\n",
      "    raise ReturnValue(int(dut.a_port_data_OUT.value))  # Read back the value\n",
      "\n",
      "\n",
      "@cocotb.test()\n",
      "def test_dpram(dut):\n",
      "    \"\"\"Try writing values into the RAM and reading back\"\"\"\n",
      "    RAM = {}\n",
      "    \n",
      "    # Read the parameters back from the DUT to set up our model\n",
      "    width = dut.DATA.value.integer\n",
      "    depth = 2**dut.ADDR.value.integer\n",
      "    dut.log.info(\"Found %d entry RAM by %d bits wide\" % (depth, width))\n",
      "\n",
      "    # Set up independent read/write clocks\n",
      "    cocotb.fork(Clock(dut.clK, 3200).start())\n",
      "    \n",
      "    dut.log.info(\"Writing in random values\")\n",
      "    for i in xrange(depth):\n",
      "        RAM[i] = int(random.getrandbits(width))\n",
      "        yield write_ram(dut, i, RAM[i])\n",
      "\n",
      "    dut.log.info(\"Reading back values and checking\")\n",
      "    for i in xrange(depth):\n",
      "        value = yield read_ram(dut, i)\n",
      "        dut.log.info(\"%d   %d\" % (value, RAM[i]))\n",
      "        if value != RAM[i]:\n",
      "            dut.log.error(\"RAM[%d] expected %d but got %d\" % (i, RAM[i], dut.a_port_data_OUT.value.value))\n",
      "            raise TestFailure(\"RAM contents incorrect\")\n",
      "    dut.log.info(\"RAM contents OK\")"
     ],
     "language": "python",
     "metadata": {},
     "outputs": [
      {
       "output_type": "stream",
       "stream": "stdout",
       "text": [
        "Overwriting ../testbench/dp_ram/test_dpram.py\n"
       ]
      }
     ],
     "prompt_number": 28
    },
    {
     "cell_type": "code",
     "collapsed": false,
     "input": [
      "%%writefile ../testbench/dp_ram/Makefile\n",
      "TOPLEVEL = dpram\n",
      "\n",
      "PWD=$(shell pwd)\n",
      "COCOTB=~/2014_devel/EDA/cocotb\n",
      "\n",
      "VERILOG_SOURCES = $(PWD)/../../hdl/dpram.v\n",
      "MODULE=test_dpram #cocotb,test_discovery,test_external,test_regression\n",
      "\n",
      "include $(COCOTB)/makefiles/Makefile.inc\n",
      "include $(COCOTB)/makefiles/Makefile.sim"
     ],
     "language": "python",
     "metadata": {},
     "outputs": [
      {
       "output_type": "stream",
       "stream": "stdout",
       "text": [
        "Overwriting ../testbench/dp_ram/Makefile\n"
       ]
      }
     ],
     "prompt_number": 29
    },
    {
     "cell_type": "code",
     "collapsed": false,
     "input": [
      "!pushd ../testbench/dp_ram; make > result 2>&1; popd"
     ],
     "language": "python",
     "metadata": {},
     "outputs": [
      {
       "output_type": "stream",
       "stream": "stdout",
       "text": [
        "~/2014_devel/EDA/fifo/testbench/dp_ram ~/2014_devel/EDA/fifo/doc\r\n"
       ]
      },
      {
       "output_type": "stream",
       "stream": "stdout",
       "text": [
        "~/2014_devel/EDA/fifo/doc\r\n"
       ]
      }
     ],
     "prompt_number": 30
    },
    {
     "cell_type": "code",
     "collapsed": false,
     "input": [],
     "language": "python",
     "metadata": {},
     "outputs": []
    }
   ],
   "metadata": {}
  }
 ]
}