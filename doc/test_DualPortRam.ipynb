{
 "metadata": {
  "name": "",
  "signature": "sha256:501c2b58ace695359fa43c30f44970115247fb8c6f779f78a3a05a2ebb122a4d"
 },
 "nbformat": 3,
 "nbformat_minor": 0,
 "worksheets": [
  {
   "cells": [
    {
     "cell_type": "code",
     "collapsed": false,
     "input": [
      "!"
     ],
     "language": "python",
     "metadata": {},
     "outputs": []
    },
    {
     "cell_type": "code",
     "collapsed": false,
     "input": [
      "%%writefile ../testbench/dp_ram/test_dpram.py\n",
      "\n",
      "import random\n",
      "\n",
      "import cocotb\n",
      "from cocotb.clock import Clock\n",
      "from cocotb.triggers import Timer, RisingEdge, ReadOnly\n",
      "from cocotb.result import TestFailure, ReturnValue\n",
      "\n",
      "@cocotb.coroutine\n",
      "def write_ram(dut, address, value):\n",
      "    \"\"\"This coroutine performs a write of the RAM\"\"\"\n",
      "    yield RisingEdge(dut.clK)                  # Synchronise to the read clock\n",
      "    dut.a_port_ADDR = address                  # Drive the values\n",
      "    dut.a_port_data_IN    = value\n",
      "    dut.a_port_WR  = 1\n",
      "    yield RisingEdge(dut.clK)                  # Wait 1 clock cycle\n",
      "    dut.a_port_WR  = 0                         # Disable write\n",
      "\n",
      "@cocotb.coroutine\n",
      "def read_ram(dut, address):\n",
      "    \"\"\"This coroutine performs a read of the RAM and returns a value\"\"\"\n",
      "    yield RisingEdge(dut.clK)               # Synchronise to the read clock\n",
      "    dut.a_port_ADDR = address                   # Drive the value onto the signal\n",
      "    yield RisingEdge(dut.clK)               # Wait for 1 clock cycle\n",
      "    yield ReadOnly()                             # Wait until all events have executed for this timestep\n",
      "    raise ReturnValue(int(dut.a_port_data_OUT.value))  # Read back the value\n",
      "\n",
      "\n",
      "@cocotb.test()\n",
      "def test_dpram(dut):\n",
      "    \"\"\"Try writing values into the RAM and reading back\"\"\"\n",
      "    RAM = {}\n",
      "    \n",
      "    # Read the parameters back from the DUT to set up our model\n",
      "    width = dut.DATA.value.integer\n",
      "    depth = 2**dut.ADDR.value.integer\n",
      "    dut.log.info(\"Found %d entry RAM by %d bits wide\" % (depth, width))\n",
      "\n",
      "    # Set up independent read/write clocks\n",
      "    cocotb.fork(Clock(dut.clk_write, 3200).start())\n",
      "    cocotb.fork(Clock(dut.clk_read, 5000).start())\n",
      "    \n",
      "    dut.log.info(\"Writing in random values\")\n",
      "    for i in xrange(depth):\n",
      "        RAM[i] = int(random.getrandbits(width))\n",
      "        yield write_ram(dut, i, RAM[i])\n",
      "\n",
      "    dut.log.info(\"Reading back values and checking\")\n",
      "    for i in xrange(depth):\n",
      "        value = yield read_ram(dut, i)\n",
      "        if value != RAM[i]:\n",
      "            dut.log.error(\"RAM[%d] expected %d but got %d\" % (i, RAM[i], dut.data_read.value.value))\n",
      "            raise TestFailure(\"RAM contents incorrect\")\n",
      "    dut.log.info(\"RAM contents OK\")"
     ],
     "language": "python",
     "metadata": {},
     "outputs": [
      {
       "output_type": "stream",
       "stream": "stdout",
       "text": [
        "Writing ../testbench/dp_ram/test_dpram.py\n"
       ]
      },
      {
       "ename": "IOError",
       "evalue": "[Errno 2] No such file or directory: '../testbench/dp_ram/test_dpram.py'",
       "output_type": "pyerr",
       "traceback": [
        "\u001b[1;31m---------------------------------------------------------------------------\u001b[0m\n\u001b[1;31mIOError\u001b[0m                                   Traceback (most recent call last)",
        "\u001b[1;32m<ipython-input-3-0e7cf9f8d6c0>\u001b[0m in \u001b[0;36m<module>\u001b[1;34m()\u001b[0m\n\u001b[1;32m----> 1\u001b[1;33m \u001b[0mget_ipython\u001b[0m\u001b[1;33m(\u001b[0m\u001b[1;33m)\u001b[0m\u001b[1;33m.\u001b[0m\u001b[0mrun_cell_magic\u001b[0m\u001b[1;33m(\u001b[0m\u001b[1;34mu'writefile'\u001b[0m\u001b[1;33m,\u001b[0m \u001b[1;34mu'../testbench/dp_ram/test_dpram.py'\u001b[0m\u001b[1;33m,\u001b[0m \u001b[1;34mu'\\nimport random\\n\\nimport cocotb\\nfrom cocotb.clock import Clock\\nfrom cocotb.triggers import Timer, RisingEdge, ReadOnly\\nfrom cocotb.result import TestFailure, ReturnValue\\n\\n@cocotb.coroutine\\ndef write_ram(dut, address, value):\\n    \"\"\"This coroutine performs a write of the RAM\"\"\"\\n    yield RisingEdge(dut.clK)                  # Synchronise to the read clock\\n    dut.a_port_ADDR = address                  # Drive the values\\n    dut.a_port_data_IN    = value\\n    dut.a_port_WR  = 1\\n    yield RisingEdge(dut.clK)                  # Wait 1 clock cycle\\n    dut.a_port_WR  = 0                         # Disable write\\n\\n@cocotb.coroutine\\ndef read_ram(dut, address):\\n    \"\"\"This coroutine performs a read of the RAM and returns a value\"\"\"\\n    yield RisingEdge(dut.clK)               # Synchronise to the read clock\\n    dut.a_port_ADDR = address                   # Drive the value onto the signal\\n    yield RisingEdge(dut.clK)               # Wait for 1 clock cycle\\n    yield ReadOnly()                             # Wait until all events have executed for this timestep\\n    raise ReturnValue(int(dut.a_port_data_OUT.value))  # Read back the value\\n\\n\\n@cocotb.test()\\ndef test_dpram(dut):\\n    \"\"\"Try writing values into the RAM and reading back\"\"\"\\n    RAM = {}\\n    \\n    # Read the parameters back from the DUT to set up our model\\n    width = dut.DATA.value.integer\\n    depth = 2**dut.ADDR.value.integer\\n    dut.log.info(\"Found %d entry RAM by %d bits wide\" % (depth, width))\\n\\n    # Set up independent read/write clocks\\n    cocotb.fork(Clock(dut.clk_write, 3200).start())\\n    cocotb.fork(Clock(dut.clk_read, 5000).start())\\n    \\n    dut.log.info(\"Writing in random values\")\\n    for i in xrange(depth):\\n        RAM[i] = int(random.getrandbits(width))\\n        yield write_ram(dut, i, RAM[i])\\n\\n    dut.log.info(\"Reading back values and checking\")\\n    for i in xrange(depth):\\n        value = yield read_ram(dut, i)\\n        if value != RAM[i]:\\n            dut.log.error(\"RAM[%d] expected %d but got %d\" % (i, RAM[i], dut.data_read.value.value))\\n            raise TestFailure(\"RAM contents incorrect\")\\n    dut.log.info(\"RAM contents OK\")'\u001b[0m\u001b[1;33m)\u001b[0m\u001b[1;33m\u001b[0m\u001b[0m\n\u001b[0m",
        "\u001b[1;32m/usr/lib/python2.7/site-packages/IPython/core/interactiveshell.pyc\u001b[0m in \u001b[0;36mrun_cell_magic\u001b[1;34m(self, magic_name, line, cell)\u001b[0m\n\u001b[0;32m   2160\u001b[0m             \u001b[0mmagic_arg_s\u001b[0m \u001b[1;33m=\u001b[0m \u001b[0mself\u001b[0m\u001b[1;33m.\u001b[0m\u001b[0mvar_expand\u001b[0m\u001b[1;33m(\u001b[0m\u001b[0mline\u001b[0m\u001b[1;33m,\u001b[0m \u001b[0mstack_depth\u001b[0m\u001b[1;33m)\u001b[0m\u001b[1;33m\u001b[0m\u001b[0m\n\u001b[0;32m   2161\u001b[0m             \u001b[1;32mwith\u001b[0m \u001b[0mself\u001b[0m\u001b[1;33m.\u001b[0m\u001b[0mbuiltin_trap\u001b[0m\u001b[1;33m:\u001b[0m\u001b[1;33m\u001b[0m\u001b[0m\n\u001b[1;32m-> 2162\u001b[1;33m                 \u001b[0mresult\u001b[0m \u001b[1;33m=\u001b[0m \u001b[0mfn\u001b[0m\u001b[1;33m(\u001b[0m\u001b[0mmagic_arg_s\u001b[0m\u001b[1;33m,\u001b[0m \u001b[0mcell\u001b[0m\u001b[1;33m)\u001b[0m\u001b[1;33m\u001b[0m\u001b[0m\n\u001b[0m\u001b[0;32m   2163\u001b[0m             \u001b[1;32mreturn\u001b[0m \u001b[0mresult\u001b[0m\u001b[1;33m\u001b[0m\u001b[0m\n\u001b[0;32m   2164\u001b[0m \u001b[1;33m\u001b[0m\u001b[0m\n",
        "\u001b[1;32m/usr/lib/python2.7/site-packages/IPython/core/magics/osm.pyc\u001b[0m in \u001b[0;36mwritefile\u001b[1;34m(self, line, cell)\u001b[0m\n",
        "\u001b[1;32m/usr/lib/python2.7/site-packages/IPython/core/magic.pyc\u001b[0m in \u001b[0;36m<lambda>\u001b[1;34m(f, *a, **k)\u001b[0m\n\u001b[0;32m    191\u001b[0m     \u001b[1;31m# but it's overkill for just that one bit of state.\u001b[0m\u001b[1;33m\u001b[0m\u001b[1;33m\u001b[0m\u001b[0m\n\u001b[0;32m    192\u001b[0m     \u001b[1;32mdef\u001b[0m \u001b[0mmagic_deco\u001b[0m\u001b[1;33m(\u001b[0m\u001b[0marg\u001b[0m\u001b[1;33m)\u001b[0m\u001b[1;33m:\u001b[0m\u001b[1;33m\u001b[0m\u001b[0m\n\u001b[1;32m--> 193\u001b[1;33m         \u001b[0mcall\u001b[0m \u001b[1;33m=\u001b[0m \u001b[1;32mlambda\u001b[0m \u001b[0mf\u001b[0m\u001b[1;33m,\u001b[0m \u001b[1;33m*\u001b[0m\u001b[0ma\u001b[0m\u001b[1;33m,\u001b[0m \u001b[1;33m**\u001b[0m\u001b[0mk\u001b[0m\u001b[1;33m:\u001b[0m \u001b[0mf\u001b[0m\u001b[1;33m(\u001b[0m\u001b[1;33m*\u001b[0m\u001b[0ma\u001b[0m\u001b[1;33m,\u001b[0m \u001b[1;33m**\u001b[0m\u001b[0mk\u001b[0m\u001b[1;33m)\u001b[0m\u001b[1;33m\u001b[0m\u001b[0m\n\u001b[0m\u001b[0;32m    194\u001b[0m \u001b[1;33m\u001b[0m\u001b[0m\n\u001b[0;32m    195\u001b[0m         \u001b[1;32mif\u001b[0m \u001b[0mcallable\u001b[0m\u001b[1;33m(\u001b[0m\u001b[0marg\u001b[0m\u001b[1;33m)\u001b[0m\u001b[1;33m:\u001b[0m\u001b[1;33m\u001b[0m\u001b[0m\n",
        "\u001b[1;32m/usr/lib/python2.7/site-packages/IPython/core/magics/osm.pyc\u001b[0m in \u001b[0;36mwritefile\u001b[1;34m(self, line, cell)\u001b[0m\n\u001b[0;32m    737\u001b[0m \u001b[1;33m\u001b[0m\u001b[0m\n\u001b[0;32m    738\u001b[0m         \u001b[0mmode\u001b[0m \u001b[1;33m=\u001b[0m \u001b[1;34m'a'\u001b[0m \u001b[1;32mif\u001b[0m \u001b[0margs\u001b[0m\u001b[1;33m.\u001b[0m\u001b[0mappend\u001b[0m \u001b[1;32melse\u001b[0m \u001b[1;34m'w'\u001b[0m\u001b[1;33m\u001b[0m\u001b[0m\n\u001b[1;32m--> 739\u001b[1;33m         \u001b[1;32mwith\u001b[0m \u001b[0mio\u001b[0m\u001b[1;33m.\u001b[0m\u001b[0mopen\u001b[0m\u001b[1;33m(\u001b[0m\u001b[0mfilename\u001b[0m\u001b[1;33m,\u001b[0m \u001b[0mmode\u001b[0m\u001b[1;33m,\u001b[0m \u001b[0mencoding\u001b[0m\u001b[1;33m=\u001b[0m\u001b[1;34m'utf-8'\u001b[0m\u001b[1;33m)\u001b[0m \u001b[1;32mas\u001b[0m \u001b[0mf\u001b[0m\u001b[1;33m:\u001b[0m\u001b[1;33m\u001b[0m\u001b[0m\n\u001b[0m\u001b[0;32m    740\u001b[0m             \u001b[0mf\u001b[0m\u001b[1;33m.\u001b[0m\u001b[0mwrite\u001b[0m\u001b[1;33m(\u001b[0m\u001b[0mcell\u001b[0m\u001b[1;33m)\u001b[0m\u001b[1;33m\u001b[0m\u001b[0m\n",
        "\u001b[1;31mIOError\u001b[0m: [Errno 2] No such file or directory: '../testbench/dp_ram/test_dpram.py'"
       ]
      }
     ],
     "prompt_number": 3
    },
    {
     "cell_type": "code",
     "collapsed": false,
     "input": [],
     "language": "python",
     "metadata": {},
     "outputs": []
    }
   ],
   "metadata": {}
  }
 ]
}