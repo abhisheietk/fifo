{
 "metadata": {
  "name": "",
  "signature": "sha256:52348f204c130b6eeccff47481a66e9f9be0dc90401ef4391a7add111c5dee80"
 },
 "nbformat": 3,
 "nbformat_minor": 0,
 "worksheets": [
  {
   "cells": [
    {
     "cell_type": "code",
     "collapsed": false,
     "input": [
      "%%writefile ../testbench/Makefile\n",
      "TOPLEVEL = ram\n",
      "\n",
      "PWD=$(shell pwd)\n",
      "COCOTB=~/2014_devel/EDA/cocotb\n",
      "\n",
      "VERILOG_SOURCES = $(PWD)/../hdl/ram.v\n",
      "MODULE=test_cocotb,test_discovery,test_external,test_regression\n",
      "\n",
      "include $(COCOTB)/makefiles/Makefile.inc\n",
      "include $(COCOTB)/makefiles/Makefile.sim"
     ],
     "language": "python",
     "metadata": {},
     "outputs": []
    }
   ],
   "metadata": {}
  }
 ]
}