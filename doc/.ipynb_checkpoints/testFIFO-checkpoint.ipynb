{
 "metadata": {
  "name": "",
  "signature": "sha256:40965668e0481781cfe0f77de4518e80a6ae8dcbb120bd8e98551d70d736b32a"
 },
 "nbformat": 3,
 "nbformat_minor": 0,
 "worksheets": [
  {
   "cells": [
    {
     "cell_type": "code",
     "collapsed": false,
     "input": [
      "!mkdir -p ../testbench/fifo"
     ],
     "language": "python",
     "metadata": {},
     "outputs": [],
     "prompt_number": 4
    },
    {
     "cell_type": "code",
     "collapsed": false,
     "input": [
      "%%writefile ../testbench/fifo/test_fifo.py\n",
      "\n",
      "import random\n",
      "\n",
      "import cocotb\n",
      "from cocotb.clock import Clock\n",
      "from cocotb.triggers import Timer, RisingEdge, ReadOnly\n",
      "from cocotb.result import TestFailure, ReturnValue\n",
      "\n",
      "@cocotb.coroutine\n",
      "def reset_fifo(dut):\n",
      "    \"\"\"This coroutine performs reset to FIFO\"\"\"\n",
      "    #yield RisingEdge(dut.clK)                  # Synchronise to the read clock\n",
      "    dut.rsT    = 1\n",
      "    yield RisingEdge(dut.clK)                  # Wait 1 clock cycle\n",
      "    dut.rsT    = 0\n",
      "    \n",
      "@cocotb.coroutine\n",
      "def write_fifo(dut, value):\n",
      "    \"\"\"This coroutine performs a write of the FIFO\"\"\"\n",
      "    #yield RisingEdge(dut.clK)                  # Synchronise to the read clock\n",
      "    dut.fifo_IN    = value\n",
      "    dut.fifo_WR    = 1\n",
      "    yield RisingEdge(dut.clK)                  # Wait 1 clock cycle\n",
      "    dut.fifo_WR    = 0                         # Disable write\n",
      "\n",
      "@cocotb.coroutine\n",
      "def read_fifo(dut):\n",
      "    \"\"\"This coroutine performs a read of the FIFO and returns a value\"\"\"\n",
      "    dut.fifo_RD = 1\n",
      "    yield RisingEdge(dut.clK)               # Wait for 1 clock cycle\n",
      "    yield ReadOnly()                        # Wait until all events have executed for this timestep\n",
      "    raise ReturnValue(int(dut.fifo_OUT.value))  # Read back the value\n",
      "\n",
      "\n",
      "@cocotb.test()\n",
      "def test_fifo(dut):\n",
      "    \"\"\"Try writing values into the FIFO and reading back\"\"\"\n",
      "    RAM = {}\n",
      "    \n",
      "    # Read the parameters back from the DUT to set up our model\n",
      "    width = dut.DATA.value.integer\n",
      "    depth = 2**dut.ADDR.value.integer\n",
      "    dut.log.info(\"Found %d entry RAM by %d bits wide\" % (depth, width))\n",
      "\n",
      "    # Set up independent read/write clocks\n",
      "    cocotb.fork(Clock(dut.clK, 3200).start())\n",
      "    \n",
      "    dut.log.info(\"Writing in random values\")\n",
      "    for i in xrange(depth):\n",
      "        RAM[i] = int(random.getrandbits(width))\n",
      "        yield write_fifo(dut, RAM[i])\n",
      "\n",
      "    dut.log.info(\"Reading back values and checking\")\n",
      "    for i in xrange(depth):\n",
      "        value = yield read_fifo(dut)\n",
      "        dut.log.info(\"%h   %h\" % (value, RAM[i]))\n",
      "        if value != RAM[i]:\n",
      "            dut.log.error(\"RAM[%d] expected %d but got %d\" % (i, RAM[i], value))\n",
      "            raise TestFailure(\"RAM contents incorrect\")\n",
      "    dut.log.info(\"RAM contents OK\")"
     ],
     "language": "python",
     "metadata": {},
     "outputs": [
      {
       "output_type": "stream",
       "stream": "stdout",
       "text": [
        "Overwriting ../testbench/fifo/test_fifo.py\n"
       ]
      }
     ],
     "prompt_number": 50
    },
    {
     "cell_type": "code",
     "collapsed": false,
     "input": [
      "%%writefile ../testbench/fifo/Makefile\n",
      "TOPLEVEL = fifo\n",
      "\n",
      "PWD=$(shell pwd)\n",
      "COCOTB=~/2014_devel/EDA/cocotb\n",
      "\n",
      "VERILOG_SOURCES = $(PWD)/../../hdl/fifo.v $(PWD)/../../hdl/dpram.v\n",
      "MODULE=test_fifo #cocotb,test_discovery,test_external,test_regression\n",
      "\n",
      "SIM_ARGS=-lxt2\n",
      "\n",
      "include $(COCOTB)/makefiles/Makefile.inc\n",
      "include $(COCOTB)/makefiles/Makefile.sim"
     ],
     "language": "python",
     "metadata": {},
     "outputs": [
      {
       "output_type": "stream",
       "stream": "stdout",
       "text": [
        "Overwriting ../testbench/fifo/Makefile\n"
       ]
      }
     ],
     "prompt_number": 53
    },
    {
     "cell_type": "code",
     "collapsed": false,
     "input": [
      "!pushd ../testbench/fifo; make > result 2>&1; popd"
     ],
     "language": "python",
     "metadata": {},
     "outputs": [
      {
       "output_type": "stream",
       "stream": "stdout",
       "text": [
        "~/2014_devel/EDA/fifo/testbench/fifo ~/2014_devel/EDA/fifo/doc\r\n"
       ]
      },
      {
       "output_type": "stream",
       "stream": "stdout",
       "text": [
        "~/2014_devel/EDA/fifo/doc\r\n"
       ]
      }
     ],
     "prompt_number": 56
    },
    {
     "cell_type": "code",
     "collapsed": false,
     "input": [],
     "language": "python",
     "metadata": {},
     "outputs": [],
     "prompt_number": 56
    },
    {
     "cell_type": "code",
     "collapsed": false,
     "input": [],
     "language": "python",
     "metadata": {},
     "outputs": [],
     "prompt_number": 56
    },
    {
     "cell_type": "code",
     "collapsed": false,
     "input": [],
     "language": "python",
     "metadata": {},
     "outputs": [],
     "prompt_number": 56
    },
    {
     "cell_type": "code",
     "collapsed": false,
     "input": [],
     "language": "python",
     "metadata": {},
     "outputs": []
    }
   ],
   "metadata": {}
  }
 ]
}