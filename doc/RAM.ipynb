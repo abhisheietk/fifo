{
 "metadata": {
  "name": "",
  "signature": "sha256:4de4f6c949b93491e726233042bb3ab9930d7a10d7b153606dcbf5af1986694b"
 },
 "nbformat": 3,
 "nbformat_minor": 0,
 "worksheets": [
  {
   "cells": [
    {
     "cell_type": "code",
     "collapsed": false,
     "input": [
      "%%writefile ../hdl/ram.v \n",
      "// Code your design here\n",
      "/* \n",
      " * Random Access Memory (RAM) with\n",
      " * 1 read port and 1 write port\n",
      " */\n",
      "module ram (clk_write, address_write,\n",
      "  data_write, write_enable,\n",
      "  clk_read, address_read, data_read);\n",
      "  \n",
      "  parameter D_WIDTH = 16;\n",
      "  parameter A_WIDTH = 5;\n",
      "\n",
      "  // Write port\n",
      "  input                clk_write;\n",
      "  input  [A_WIDTH-1:0] address_write;\n",
      "  input  [D_WIDTH-1:0] data_write;\n",
      "  input                write_enable;\n",
      "\n",
      "  // Read port\n",
      "  input                clk_read;\n",
      "  input  [A_WIDTH-1:0] address_read;\n",
      "  output [D_WIDTH-1:0] data_read;\n",
      "  \n",
      "  reg    [D_WIDTH-1:0] data_read;\n",
      "  \n",
      "  // Memory as multi-dimensional array\n",
      "  reg [D_WIDTH-1:0] memory [0:2**A_WIDTH-1];\n",
      "\n",
      "  // Write data to memory\n",
      "  always @(posedge clk_write) begin\n",
      "    if (write_enable) begin\n",
      "      memory[address_write] <= data_write;\n",
      "    end\n",
      "  end\n",
      "\n",
      "  // Read data from memory\n",
      "  always @(posedge clk_read) begin\n",
      "    data_read <= memory[address_read];\n",
      "  end\n",
      "\n",
      "endmodule"
     ],
     "language": "python",
     "metadata": {},
     "outputs": [
      {
       "output_type": "stream",
       "stream": "stdout",
       "text": [
        "Writing ../hdl/ram.v\n"
       ]
      }
     ],
     "prompt_number": 3
    },
    {
     "cell_type": "code",
     "collapsed": false,
     "input": [],
     "language": "python",
     "metadata": {},
     "outputs": []
    }
   ],
   "metadata": {}
  }
 ]
}