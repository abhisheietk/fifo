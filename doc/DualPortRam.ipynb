{
 "metadata": {
  "name": "",
  "signature": "sha256:4dc93fc79c4b82493f0f30a83464f24b5f25e2f8f140f2f343a817ea112fb0bf"
 },
 "nbformat": 3,
 "nbformat_minor": 0,
 "worksheets": [
  {
   "cells": [
    {
     "cell_type": "markdown",
     "metadata": {},
     "source": [
      "## Dual Port Random Access Memory (DPRAM)"
     ]
    },
    {
     "cell_type": "code",
     "collapsed": false,
     "input": [
      "%%writefile ../hdl/dpram.v\n",
      "module dpram (\n",
      "    clK, \n",
      "\n",
      "    a_port_WR,\n",
      "    a_port_ADDR,\n",
      "    a_port_data_IN,\n",
      "    a_port_data_OUT,\n",
      "\n",
      "    b_port_WR,\n",
      "    b_port_ADDR,\n",
      "    b_port_data_IN,\n",
      "    b_port_data_OUT\n",
      "    );\n",
      "\n",
      "    parameter DATA = 16;\n",
      "    parameter ADDR = 5;"
     ],
     "language": "python",
     "metadata": {},
     "outputs": [
      {
       "output_type": "stream",
       "stream": "stdout",
       "text": [
        "Overwriting ../hdl/dpram.v\n"
       ]
      }
     ],
     "prompt_number": 8
    },
    {
     "cell_type": "markdown",
     "metadata": {},
     "source": [
      "there are two ports to this memory"
     ]
    },
    {
     "cell_type": "code",
     "collapsed": false,
     "input": [
      "%%writefile ../hdl/dpram.v -a\n",
      "    input clK;\n",
      "    \n",
      "    // port A\n",
      "    input  wire              a_port_WR;\n",
      "    input  wire [ADDR-1:0]   a_port_ADDR;\n",
      "    input  wire [DATA-1:0]   a_port_data_IN;\n",
      "    output reg  [DATA-1:0]   a_port_data_OUT;\n",
      "    \n",
      "    // port B\n",
      "    input  wire              b_port_WR;\n",
      "    input  wire [ADDR-1:0]   b_port_ADDR;\n",
      "    input  wire [DATA-1:0]   b_port_data_IN;\n",
      "    output reg  [DATA-1:0]   b_port_data_OUT;\n",
      "    "
     ],
     "language": "python",
     "metadata": {},
     "outputs": [
      {
       "output_type": "stream",
       "stream": "stdout",
       "text": [
        "Appending to ../hdl/dpram.v\n"
       ]
      }
     ],
     "prompt_number": 9
    },
    {
     "cell_type": "code",
     "collapsed": false,
     "input": [
      "%%writefile ../hdl/dpram.v -a\n",
      "\n",
      "    initial begin\n",
      "        $dumpfile(\"dump.lxt\");\n",
      "        $dumpvars();\n",
      "    end\n",
      "    \n",
      "    // Memory as multi-dimensional array\n",
      "    reg [DATA-1:0] Memory [0:2**ADDR-1];\n",
      "    \n",
      "    // Write data to Memory\n",
      "    always @(posedge clK) begin\n",
      "        if (a_port_WR) begin\n",
      "            Memory[a_port_ADDR] <= a_port_data_IN;\n",
      "        end\n",
      "    end\n",
      "    always @(posedge clK) begin\n",
      "        if (b_port_WR) begin\n",
      "            Memory[b_port_ADDR] <= b_port_data_IN;\n",
      "        end\n",
      "    end\n",
      "    \n",
      "    // Read data from memory\n",
      "    always @(posedge clK) begin\n",
      "        a_port_data_OUT <= Memory[a_port_ADDR];\n",
      "        b_port_data_OUT <= Memory[b_port_ADDR];\n",
      "    end\n",
      "\n",
      "endmodule"
     ],
     "language": "python",
     "metadata": {},
     "outputs": [
      {
       "output_type": "stream",
       "stream": "stdout",
       "text": [
        "Appending to ../hdl/dpram.v\n"
       ]
      }
     ],
     "prompt_number": 10
    },
    {
     "cell_type": "code",
     "collapsed": false,
     "input": [],
     "language": "python",
     "metadata": {},
     "outputs": [],
     "prompt_number": 10
    },
    {
     "cell_type": "code",
     "collapsed": false,
     "input": [],
     "language": "python",
     "metadata": {},
     "outputs": []
    }
   ],
   "metadata": {}
  }
 ]
}