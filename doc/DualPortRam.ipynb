{
 "metadata": {
  "name": "",
  "signature": "sha256:7a29a44f8369366867e331865fd0045e5a1a0b704925fc11a1b2448d2fa974a1"
 },
 "nbformat": 3,
 "nbformat_minor": 0,
 "worksheets": [
  {
   "cells": [
    {
     "cell_type": "markdown",
     "metadata": {},
     "source": [
      "## Dual Port Random Access Memory (DPRAM)"
     ]
    },
    {
     "cell_type": "code",
     "collapsed": false,
     "input": [
      "%%writefile ../hdl/dpram.v\n",
      "module dpram (\n",
      "    clK, \n",
      "    a_port_WR,\n",
      "    A_port_ADDR,\n",
      "    a_port_data_IN,\n",
      "    a_port_data_OUT,\n",
      "    a_port_WR,\n",
      "    A_port_ADDR,\n",
      "    a_port_data_IN,\n",
      "    a_port_data_OUT,\n",
      "  data_write, write_enable,\n",
      "  clk_read, address_read, data_read);\n",
      "  \n",
      "  parameter D_WIDTH = 16;\n",
      "  parameter A_WIDTH = 5;\n",
      "\n",
      "  // Write port\n",
      "  input                clk_write;\n",
      "  input  [A_WIDTH-1:0] address_write;\n",
      "  input  [D_WIDTH-1:0] data_write;\n",
      "  input                write_enable;\n",
      "\n",
      "  // Read port\n",
      "  input                clk_read;\n",
      "  input  [A_WIDTH-1:0] address_read;\n",
      "  output [D_WIDTH-1:0] data_read;\n",
      "  \n",
      "  reg    [D_WIDTH-1:0] data_read;\n",
      "  \n",
      "  // Memory as multi-dimensional array\n",
      "  reg [D_WIDTH-1:0] memory [0:2**A_WIDTH-1];\n",
      "\n",
      "  // Write data to memory\n",
      "  always @(posedge clk_write) begin\n",
      "    if (write_enable) begin\n",
      "      memory[address_write] <= data_write;\n",
      "    end\n",
      "  end\n",
      "\n",
      "  // Read data from memory\n",
      "  always @(posedge clk_read) begin\n",
      "    data_read <= memory[address_read];\n",
      "  end\n",
      "\n",
      "endmodule"
     ],
     "language": "python",
     "metadata": {},
     "outputs": []
    }
   ],
   "metadata": {}
  }
 ]
}