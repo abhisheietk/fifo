{
 "metadata": {
  "name": "",
  "signature": "sha256:9895be3284ab689395dd974a9324064e2523a0789ad7f1b94b3a936d66314021"
 },
 "nbformat": 3,
 "nbformat_minor": 0,
 "worksheets": [
  {
   "cells": [
    {
     "cell_type": "markdown",
     "metadata": {},
     "source": [
      "## Dual Port Random Access Memory (DPRAM)"
     ]
    },
    {
     "cell_type": "code",
     "collapsed": false,
     "input": [
      "%%writefile ../hdl/dpram.v\n",
      "module dpram (\n",
      "    clK, \n",
      "\n",
      "    a_port_WR,\n",
      "    a_port_ADDR,\n",
      "    a_port_data_IN,\n",
      "    a_port_data_OUT,\n",
      "\n",
      "    b_port_WR,\n",
      "    b_port_ADDR,\n",
      "    b_port_data_IN,\n",
      "    b_port_data_OUT\n",
      ");\n",
      "\n",
      "    parameter DATA = 16;\n",
      "    parameter ADDR = 5;"
     ],
     "language": "python",
     "metadata": {},
     "outputs": [
      {
       "output_type": "stream",
       "stream": "stdout",
       "text": [
        "Writing ../hdl/dpram.v\n"
       ]
      }
     ],
     "prompt_number": 1
    },
    {
     "cell_type": "markdown",
     "metadata": {},
     "source": [
      "there are two ports to this memory"
     ]
    },
    {
     "cell_type": "code",
     "collapsed": false,
     "input": [
      "%%writefile ../hdl/dpram.v -a\n",
      "    input clK;\n",
      "    \n",
      "    // port A\n",
      "    input              a_port_WR;\n",
      "    input  [ADDR-1:0]   a_port_ADDR;\n",
      "    input  [DATA-1:0]   a_port_data_IN;\n",
      "    output [DATA-1:0]   a_port_data_OUT;\n",
      "    \n",
      "    // port B\n",
      "    input              a_port_WR;\n",
      "    input  [ADDR-1:0]   a_port_ADDR;\n",
      "    input  [DATA-1:0]   a_port_data_IN;\n",
      "    output [DATA-1:0]   a_port_data_OUT;"
     ],
     "language": "python",
     "metadata": {},
     "outputs": [
      {
       "output_type": "stream",
       "stream": "stdout",
       "text": [
        "Appending to ../hdl/dpram.v\n"
       ]
      }
     ],
     "prompt_number": 2
    },
    {
     "cell_type": "code",
     "collapsed": false,
     "input": [
      "%%writefile ../hdl/dpram.v -a  \n",
      "  // Memory as multi-dimensional array\n",
      "  reg [D_WIDTH-1:0] memory [0:2**A_WIDTH-1];\n",
      "\n",
      "  // Write data to memory\n",
      "  always @(posedge clk_write) begin\n",
      "    if (write_enable) begin\n",
      "      memory[address_write] <= data_write;\n",
      "    end\n",
      "  end\n",
      "\n",
      "  // Read data from memory\n",
      "  always @(posedge clk_read) begin\n",
      "    data_read <= memory[address_read];\n",
      "  end\n",
      "\n",
      "endmodule"
     ],
     "language": "python",
     "metadata": {},
     "outputs": []
    }
   ],
   "metadata": {}
  }
 ]
}