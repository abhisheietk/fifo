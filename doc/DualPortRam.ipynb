{
 "metadata": {
  "name": "",
  "signature": "sha256:9d2bc87b7fbd77183785a62d3111a315b68ab11c1d0d5f4ea765e5cd9b466cb6"
 },
 "nbformat": 3,
 "nbformat_minor": 0,
 "worksheets": [
  {
   "cells": [
    {
     "cell_type": "markdown",
     "metadata": {},
     "source": [
      "## Dual Port Random Access Memory (DPRAM)"
     ]
    },
    {
     "cell_type": "code",
     "collapsed": false,
     "input": [
      "%%writefile ../hdl/dpram.v\n",
      "module dpram (\n",
      "    clK, \n",
      "\n",
      "    a_port_WR,\n",
      "    a_port_ADDR,\n",
      "    a_port_data_IN,\n",
      "    a_port_data_OUT,\n",
      "\n",
      "    b_port_WR,\n",
      "    b_port_ADDR,\n",
      "    b_port_data_IN,\n",
      "    b_port_data_OUT\n",
      "    );\n",
      "\n",
      "    parameter DATA = 16;\n",
      "    parameter ADDR = 5;"
     ],
     "language": "python",
     "metadata": {},
     "outputs": [
      {
       "output_type": "stream",
       "stream": "stdout",
       "text": [
        "Overwriting ../hdl/dpram.v\n"
       ]
      }
     ],
     "prompt_number": 11
    },
    {
     "cell_type": "markdown",
     "metadata": {},
     "source": [
      "there are two ports to this memory"
     ]
    },
    {
     "cell_type": "code",
     "collapsed": false,
     "input": [
      "%%writefile ../hdl/dpram.v -a\n",
      "    input clK;\n",
      "    \n",
      "    // port A\n",
      "    input  wire              a_port_WR;\n",
      "    input  wire [ADDR-1:0]   a_port_ADDR;\n",
      "    input  wire [DATA-1:0]   a_port_data_IN;\n",
      "    output wire [DATA-1:0]   a_port_data_OUT;\n",
      "    \n",
      "    // port B\n",
      "    input  wire              b_port_WR;\n",
      "    input  wire [ADDR-1:0]   b_port_ADDR;\n",
      "    input  wire [DATA-1:0]   b_port_data_IN;\n",
      "    output wire [DATA-1:0]   b_port_data_OUT;\n",
      "    "
     ],
     "language": "python",
     "metadata": {},
     "outputs": [
      {
       "output_type": "stream",
       "stream": "stdout",
       "text": [
        "Appending to ../hdl/dpram.v\n"
       ]
      }
     ],
     "prompt_number": 12
    },
    {
     "cell_type": "code",
     "collapsed": false,
     "input": [
      "%%writefile ../hdl/dpram.v -a\n",
      "\n",
      "    // Memory as multi-dimensional array\n",
      "    reg [DATA-1:0] Memory [0:2**ADDR-1];\n",
      "    \n",
      "    // Write data to Memory\n",
      "    always @(posedge clK) begin\n",
      "        if (a_port_WR) begin\n",
      "            Memory[a_port_ADDR] <= a_port_data_IN;\n",
      "        end\n",
      "    end\n",
      "    always @(posedge clK) begin\n",
      "        if (b_port_WR) begin\n",
      "            Memory[b_port_ADDR] <= b_port_data_IN;\n",
      "        end\n",
      "    end\n",
      "    \n",
      "    // Read data from memory\n",
      "    assign a_port_data_OUT = Memory[a_port_ADDR];\n",
      "    assign b_port_data_OUT = Memory[b_port_ADDR];\n",
      "\n",
      "endmodule"
     ],
     "language": "python",
     "metadata": {},
     "outputs": [
      {
       "output_type": "stream",
       "stream": "stdout",
       "text": [
        "Appending to ../hdl/dpram.v\n"
       ]
      }
     ],
     "prompt_number": 13
    },
    {
     "cell_type": "code",
     "collapsed": false,
     "input": [],
     "language": "python",
     "metadata": {},
     "outputs": [],
     "prompt_number": 10
    },
    {
     "cell_type": "code",
     "collapsed": false,
     "input": [],
     "language": "python",
     "metadata": {},
     "outputs": []
    }
   ],
   "metadata": {}
  }
 ]
}