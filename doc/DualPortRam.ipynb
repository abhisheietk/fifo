{
 "metadata": {
  "name": "",
  "signature": "sha256:841546faf439c087d27f51f1aef112039f367d4657494fef95530a15083f391e"
 },
 "nbformat": 3,
 "nbformat_minor": 0,
 "worksheets": [
  {
   "cells": [
    {
     "cell_type": "markdown",
     "metadata": {},
     "source": [
      "## Dual Port Random Access Memory (DPRAM)"
     ]
    },
    {
     "cell_type": "code",
     "collapsed": false,
     "input": [
      "%%writefile ../hdl/dpram.v\n",
      "module dpram (\n",
      "    clK, \n",
      "\n",
      "    a_port_WR,\n",
      "    a_port_ADDR,\n",
      "    a_port_data_IN,\n",
      "    a_port_data_OUT,\n",
      "\n",
      "    b_port_WR,\n",
      "    b_port_ADDR,\n",
      "    b_port_data_IN,\n",
      "    b_port_data_OUT\n",
      ");\n",
      "\n",
      "    parameter DATA = 16;\n",
      "    parameter ADDR = 5;"
     ],
     "language": "python",
     "metadata": {},
     "outputs": [
      {
       "output_type": "stream",
       "stream": "stdout",
       "text": [
        "Writing ../hdl/dpram.v\n"
       ]
      }
     ],
     "prompt_number": 1
    },
    {
     "cell_type": "markdown",
     "metadata": {},
     "source": [
      "there are two ports to this memory"
     ]
    },
    {
     "cell_type": "code",
     "collapsed": false,
     "input": [
      "%%writefile ../hdl/dpram.v -a\n",
      "    input clK;\n",
      "    \n",
      "    // port A\n",
      "    input               a_port_WR;\n",
      "    input  [ADDR-1:0]   a_port_ADDR;\n",
      "    input  [DATA-1:0]   a_port_data_IN;\n",
      "    output [DATA-1:0]   a_port_data_OUT;\n",
      "    \n",
      "    // port B\n",
      "    input               b_port_WR;\n",
      "    input  [ADDR-1:0]   b_port_ADDR;\n",
      "    input  [DATA-1:0]   b_port_data_IN;\n",
      "    output [DATA-1:0]   b_port_data_OUT;"
     ],
     "language": "python",
     "metadata": {},
     "outputs": [
      {
       "output_type": "stream",
       "stream": "stdout",
       "text": [
        "Appending to ../hdl/dpram.v\n"
       ]
      }
     ],
     "prompt_number": 2
    },
    {
     "cell_type": "code",
     "collapsed": false,
     "input": [
      "%%writefile ../hdl/dpram.v -a\n",
      "\n",
      "    // Memory as multi-dimensional array\n",
      "    reg [DATA-1:0] Memory [0:2**ADDR-1];\n",
      "    \n",
      "    // Write data to Memory\n",
      "    always @(posedge clK) begin\n",
      "        if (a_port_WR) begin\n",
      "            Memory[a_port_ADDR] <= a_port_data_IN;\n",
      "        end\n",
      "    end\n",
      "    always @(posedge clK) begin\n",
      "        if (b_port_WR) begin\n",
      "            Memory[b_port_ADDR] <= b_port_data_IN;\n",
      "        end\n",
      "    end\n",
      "    \n",
      "    // Read data from memory\n",
      "    always @(posedge clK) begin\n",
      "        a_port_data_OUT <= Memory[a_port_ADDR];\n",
      "    end\n",
      "    always @(posedge clK) begin\n",
      "        b_port_data_OUT <= Memory[b_port_ADDR];\n",
      "    end\n",
      "\n",
      "endmodule"
     ],
     "language": "python",
     "metadata": {},
     "outputs": []
    }
   ],
   "metadata": {}
  }
 ]
}