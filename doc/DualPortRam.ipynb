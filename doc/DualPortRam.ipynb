{
 "metadata": {
  "name": "",
  "signature": "sha256:26d324d822d9aa03e8b0a39177ecb7d1a9af8e9358c9780acaa0519d62ce5d1f"
 },
 "nbformat": 3,
 "nbformat_minor": 0,
 "worksheets": [
  {
   "cells": [
    {
     "cell_type": "markdown",
     "metadata": {},
     "source": [
      "## Dual Port Random Access Memory (DPRAM)"
     ]
    },
    {
     "cell_type": "code",
     "collapsed": false,
     "input": [
      "%%writefile ../hdl/dpram.v\n",
      "module dpram (\n",
      "    clK, \n",
      "\n",
      "    a_port_WR,\n",
      "    a_port_ADDR,\n",
      "    a_port_data_IN,\n",
      "    a_port_data_OUT,\n",
      "\n",
      "    b_port_WR,\n",
      "    b_port_ADDR,\n",
      "    b_port_data_IN,\n",
      "    b_port_data_OUT\n",
      ");\n",
      "\n",
      "    parameter DATA = 16;\n",
      "    parameter ADDR = 5;"
     ],
     "language": "python",
     "metadata": {},
     "outputs": [
      {
       "output_type": "stream",
       "stream": "stdout",
       "text": [
        "Writing ../hdl/dpram.v\n"
       ]
      }
     ],
     "prompt_number": 1
    },
    {
     "cell_type": "markdown",
     "metadata": {},
     "source": [
      "there are two ports to this memory"
     ]
    },
    {
     "cell_type": "code",
     "collapsed": false,
     "input": [
      "%%writefile ../hdl/dpram.v -a\n",
      "    input clK,\n",
      "    \n",
      "    // port A\n",
      "    input              a_port_WR;\n",
      "    input [ADDR-1:0]   a_port_ADDR;\n",
      "    input [DATA-1:0]   a_port_data_IN;\n",
      "    input [DATA-1:0]   a_port_data_OUT;\n",
      "    \n",
      "\n",
      "    // Read port\n",
      "    input                clk_read;\n",
      "    input  [A_WIDTH-1:0] address_read;\n",
      "    output [D_WIDTH-1:0] data_read;\n",
      "  \n",
      "  reg    [D_WIDTH-1:0] data_read;\n",
      "  \n",
      "  // Memory as multi-dimensional array\n",
      "  reg [D_WIDTH-1:0] memory [0:2**A_WIDTH-1];\n",
      "\n",
      "  // Write data to memory\n",
      "  always @(posedge clk_write) begin\n",
      "    if (write_enable) begin\n",
      "      memory[address_write] <= data_write;\n",
      "    end\n",
      "  end\n",
      "\n",
      "  // Read data from memory\n",
      "  always @(posedge clk_read) begin\n",
      "    data_read <= memory[address_read];\n",
      "  end\n",
      "\n",
      "endmodule"
     ],
     "language": "python",
     "metadata": {},
     "outputs": []
    }
   ],
   "metadata": {}
  }
 ]
}