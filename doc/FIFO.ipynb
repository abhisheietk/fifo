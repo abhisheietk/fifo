{
 "metadata": {
  "name": "",
  "signature": "sha256:d3485b07b9ea4ef7868b2528d4184dbb3dd5b39c50a4d08790f0bdffb4aa68cb"
 },
 "nbformat": 3,
 "nbformat_minor": 0,
 "worksheets": [
  {
   "cells": [
    {
     "cell_type": "code",
     "collapsed": false,
     "input": [
      "%%writefile ../hdl/fifo.v\n",
      "module dpram (\n",
      "    clK, \n",
      "    fifo_WR,\n",
      "    fifo_IN,\n",
      "    fifo_RD,\n",
      "    fifo_OUT\n",
      "    );\n",
      "\n",
      "    parameter DATA = 16;\n",
      "    parameter ADDR = 5;"
     ],
     "language": "python",
     "metadata": {},
     "outputs": [
      {
       "output_type": "stream",
       "stream": "stdout",
       "text": [
        "Overwriting ../hdl/fifo.v\n"
       ]
      }
     ],
     "prompt_number": 2
    },
    {
     "cell_type": "code",
     "collapsed": false,
     "input": [
      "%%writefile ../hdl/dpram.v -a\n",
      "    input clK;\n",
      "    \n",
      "    // in fifo\n",
      "    input  wire              fifo_WR;\n",
      "    input  wire [DATA-1:0]   fifo_IN;\n",
      "    \n",
      "    // out fifo\n",
      "    input  wire              fifo_RD;\n",
      "    output wire [DATA-1:0]   fifo_OUT;"
     ],
     "language": "python",
     "metadata": {},
     "outputs": []
    }
   ],
   "metadata": {}
  }
 ]
}