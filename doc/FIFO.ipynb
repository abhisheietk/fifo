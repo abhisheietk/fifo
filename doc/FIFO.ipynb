{
 "metadata": {
  "name": "",
  "signature": "sha256:a0beedd9438f28f24658e148d604e30d9685872a7b1f5bb27c4c2b63aa277f75"
 },
 "nbformat": 3,
 "nbformat_minor": 0,
 "worksheets": [
  {
   "cells": [
    {
     "cell_type": "code",
     "collapsed": false,
     "input": [
      "%%writefile ../hdl/fifo.v\n",
      "module dpram (\n",
      "    clK, \n",
      "    fifo_IN,\n",
      "    fifo_WR,\n",
      "    fifo_RD,\n",
      "    fifo_OUT\n",
      "    );\n",
      "\n",
      "    parameter DATA = 16;\n",
      "    parameter ADDR = 5;"
     ],
     "language": "python",
     "metadata": {},
     "outputs": [
      {
       "output_type": "stream",
       "stream": "stdout",
       "text": [
        "Writing ../hdl/fifo.v\n"
       ]
      }
     ],
     "prompt_number": 1
    },
    {
     "cell_type": "code",
     "collapsed": false,
     "input": [],
     "language": "python",
     "metadata": {},
     "outputs": []
    }
   ],
   "metadata": {}
  }
 ]
}