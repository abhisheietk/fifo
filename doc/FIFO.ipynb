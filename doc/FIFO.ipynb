{
 "metadata": {
  "name": "",
  "signature": "sha256:b12204891d7c7ac07f5926460486ca2abd37f0967a2cfe8ef66eba324b38f085"
 },
 "nbformat": 3,
 "nbformat_minor": 0,
 "worksheets": [
  {
   "cells": [
    {
     "cell_type": "code",
     "collapsed": false,
     "input": [
      "%%writefile ../hdl/dpram.v\n",
      "module dpram (\n",
      "    clK, \n",
      "    fifo_IN,\n",
      "    fifo_OUT\n",
      "    );\n",
      "\n",
      "    parameter DATA = 16;\n",
      "    parameter ADDR = 5;"
     ],
     "language": "python",
     "metadata": {},
     "outputs": []
    }
   ],
   "metadata": {}
  }
 ]
}