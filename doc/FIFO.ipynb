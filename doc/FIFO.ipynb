{
 "metadata": {
  "name": "",
  "signature": "sha256:1d66e389f4b794c81ec4787e02b04b34834765e567ae239d9a74ea8c6592abca"
 },
 "nbformat": 3,
 "nbformat_minor": 0,
 "worksheets": [
  {
   "cells": [
    {
     "cell_type": "code",
     "collapsed": false,
     "input": [
      "%%writefile ../hdl/fifo.v\n",
      "module dpram (\n",
      "    clK, \n",
      "    fifo_WR,\n",
      "    fifo_IN,\n",
      "    fifo_RD,\n",
      "    fifo_OUT\n",
      "    );\n",
      "\n",
      "    parameter DATA = 16;\n",
      "    parameter ADDR = 5;"
     ],
     "language": "python",
     "metadata": {},
     "outputs": [
      {
       "output_type": "stream",
       "stream": "stdout",
       "text": [
        "Overwriting ../hdl/fifo.v\n"
       ]
      }
     ],
     "prompt_number": 2
    },
    {
     "cell_type": "code",
     "collapsed": false,
     "input": [
      "%%writefile ../hdl/dpram.v -a\n",
      "    input clK;\n",
      "    \n",
      "    // in fifo\n",
      "    input  wire              fifo_WR;\n",
      "    input  wire [DATA-1:0]   fifo_IN;\n",
      "    \n",
      "    // out fifo\n",
      "    input  wire              b_port_WR;\n",
      "    input  wire [ADDR-1:0]   b_port_ADDR;\n",
      "    input  wire [DATA-1:0]   b_port_data_IN;\n",
      "    output reg  [DATA-1:0]   b_port_data_OUT;"
     ],
     "language": "python",
     "metadata": {},
     "outputs": []
    }
   ],
   "metadata": {}
  }
 ]
}