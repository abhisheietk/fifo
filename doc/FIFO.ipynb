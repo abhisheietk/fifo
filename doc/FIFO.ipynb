{
 "metadata": {
  "name": "",
  "signature": "sha256:d0edcfae483544cc77234527c91cba87d97cf39c23518ad3d054779709d78102"
 },
 "nbformat": 3,
 "nbformat_minor": 0,
 "worksheets": [
  {
   "cells": [
    {
     "cell_type": "code",
     "collapsed": false,
     "input": [
      "%%writefile ../hdl/fifo.v\n",
      "module dpram (\n",
      "    clK, \n",
      "    fifo_WR,\n",
      "    fifo_IN,\n",
      "    fifo_RD,\n",
      "    fifo_OUT\n",
      "    );\n",
      "\n",
      "    parameter DATA = 16;\n",
      "    parameter ADDR = 5;"
     ],
     "language": "python",
     "metadata": {},
     "outputs": [
      {
       "output_type": "stream",
       "stream": "stdout",
       "text": [
        "Overwriting ../hdl/fifo.v\n"
       ]
      }
     ],
     "prompt_number": 2
    },
    {
     "cell_type": "code",
     "collapsed": false,
     "input": [
      "%%writefile ../hdl/fifo.v -a\n",
      "    input clK;\n",
      "    \n",
      "    // in fifo\n",
      "    input  wire              fifo_WR;\n",
      "    input  wire [DATA-1:0]   fifo_IN;\n",
      "    \n",
      "    // out fifo\n",
      "    input  wire              fifo_RD;\n",
      "    output wire [DATA-1:0]   fifo_OUT;"
     ],
     "language": "python",
     "metadata": {},
     "outputs": [
      {
       "output_type": "stream",
       "stream": "stdout",
       "text": [
        "Appending to ../hdl/dpram.v\n"
       ]
      }
     ],
     "prompt_number": 3
    },
    {
     "cell_type": "code",
     "collapsed": false,
     "input": [
      "%%writefile ../hdl/fifo.v -a\n",
      "\n",
      "    initial begin\n",
      "        $dumpfile(\"dump.lxt\");\n",
      "        $dumpvars();\n",
      "    end\n",
      "    \n",
      "    // Memory as multi-dimensional array\n",
      "    reg [DATA-1:0] Memory [0:2**ADDR-1];\n",
      "    \n",
      "    // Write data to Memory\n",
      "    always @(posedge clK) begin\n",
      "        if (a_port_WR) begin\n",
      "            Memory[a_port_ADDR] <= a_port_data_IN;\n",
      "        end\n",
      "    end\n",
      "    always @(posedge clK) begin\n",
      "        if (b_port_WR) begin\n",
      "            Memory[b_port_ADDR] <= b_port_data_IN;\n",
      "        end\n",
      "    end\n",
      "    \n",
      "    // Read data from memory\n",
      "    always @(posedge clK) begin\n",
      "        a_port_data_OUT <= Memory[a_port_ADDR];\n",
      "        b_port_data_OUT <= Memory[b_port_ADDR];\n",
      "    end\n",
      "\n",
      "endmodule"
     ],
     "language": "python",
     "metadata": {},
     "outputs": []
    }
   ],
   "metadata": {}
  }
 ]
}