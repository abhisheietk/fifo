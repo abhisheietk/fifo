{
 "metadata": {
  "name": "",
  "signature": "sha256:1b7ba5b73fea57f24b2a70d11f9f225840ea752e96d57038385c6c1cd955ef45"
 },
 "nbformat": 3,
 "nbformat_minor": 0,
 "worksheets": [
  {
   "cells": [
    {
     "cell_type": "code",
     "collapsed": false,
     "input": [
      "%%writefile verilog_src -a\n"
     ],
     "language": "python",
     "metadata": {},
     "outputs": []
    }
   ],
   "metadata": {}
  }
 ]
}